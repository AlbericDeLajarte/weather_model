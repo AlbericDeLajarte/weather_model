{
 "cells": [
  {
   "cell_type": "code",
   "execution_count": 33,
   "metadata": {},
   "outputs": [],
   "source": [
    "import numpy as np\n",
    "\n",
    "import torch\n",
    "from torch import nn, Tensor\n",
    "from torch.nn import TransformerEncoder, TransformerEncoderLayer\n",
    "\n",
    "import lightning.pytorch as pl\n",
    "from pytorch_lightning.loggers import WandbLogger\n",
    "from lightning.pytorch.callbacks.early_stopping import EarlyStopping\n",
    "\n",
    "import wandb\n",
    "\n",
    "import sys, os\n"
   ]
  },
  {
   "cell_type": "code",
   "execution_count": 34,
   "metadata": {},
   "outputs": [],
   "source": [
    "class MLPModel(pl.LightningModule):\n",
    "\n",
    "    def __init__(self, d_input: int, d_output: int, d_layers: list,\n",
    "                 dropout: float = 0.0, lr: float = 1e-2, gamma: float = 1.0):\n",
    "        super().__init__()\n",
    "        self.save_hyperparameters()\n",
    "        \n",
    "        # Misc parameters\n",
    "        self.model_type = 'MLP'\n",
    "        self.lr = lr\n",
    "        self.gamma = gamma\n",
    "        self.train_losses = []\n",
    "\n",
    "        # MLP layers\n",
    "        self.input_layer = nn.Linear(d_input, d_layers[0])\n",
    "        self.hidden_layers = nn.ModuleList([nn.Linear(d_layers[i], d_layers[i+1]) for i in range(len(d_layers)-1)])\n",
    "        self.output_layer = nn.Linear(d_layers[-1], d_output)\n",
    "\n",
    "        self.activ = nn.ReLU()\n",
    "        self.loss = nn.MSELoss()\n",
    "\n",
    "\n",
    "    def forward(self, src: Tensor) -> Tensor:\n",
    "\n",
    "        x = self.activ(self.input_layer(src))\n",
    "        for layer in self.hidden_layers:\n",
    "            x = self.activ(layer(x))\n",
    "        x = self.output_layer(x)\n",
    "\n",
    "        return x\n",
    "\n",
    "\n",
    "    def training_step(self, batch, batch_idx):\n",
    "        inputs, targets = batch\n",
    "        outputs = self.forward(inputs)\n",
    "\n",
    "        # Compute loss and save it\n",
    "        loss = self.loss(outputs, targets)\n",
    "        self.log(\"train/loss\", loss, sync_dist=True)\n",
    "        \n",
    "        return loss\n",
    "    \n",
    "    def validation_step(self, batch, batch_idx):\n",
    "        inputs, targets = batch\n",
    "        outputs = self.forward(inputs)\n",
    "\n",
    "        # Compute loss and save it\n",
    "        loss = self.loss(outputs, targets)\n",
    "        self.log(\"valid/loss\", loss, sync_dist=True)\n",
    "        \n",
    "        return outputs, loss\n",
    "\n",
    "\n",
    "    def test_step(self, batch, batch_idx):\n",
    "        inputs, targets = batch\n",
    "        outputs = self.forward(inputs)\n",
    "\n",
    "        return outputs\n",
    "\n",
    "    def configure_optimizers(self):\n",
    "        # optimizer = torch.optim.SGD(self.parameters(), lr=self.lr, momentum=0.9)\n",
    "        optimizer = torch.optim.Adam(self.parameters(), lr=self.lr)\n",
    "        scheduler = torch.optim.lr_scheduler.ExponentialLR(optimizer, gamma=self.gamma)\n",
    "        return [optimizer], [scheduler]"
   ]
  },
  {
   "cell_type": "code",
   "execution_count": 43,
   "metadata": {},
   "outputs": [],
   "source": [
    "class Weather_dataset(torch.utils.data.Dataset):\n",
    "    def __init__(self, dataset: int = 0):\n",
    "\n",
    "        # Load dataset from library\n",
    "        data = np.load(os.path.join('/Users/alberic/Desktop/divers/projects/hvac_opt/weather_model/data/combined_Room1', \n",
    "                                    f'normalized_data_{dataset}.npy'))\n",
    "        \n",
    "        self.input = data[:len(data)-1]\n",
    "        self.target = data[1:, 6:8]\n",
    "\n",
    "    def __len__(self):\n",
    "        return len(self.input)\n",
    "\n",
    "    def __getitem__(self, idx):\n",
    "        return ( torch.tensor(self.input[idx]).type(torch.float), torch.tensor(self.target[idx]).type(torch.float) )        \n",
    "    \n",
    "\n",
    "class Weather_dataModule(pl.LightningDataModule):\n",
    "\n",
    "    def __init__(self, batch_train_size: int = 32, batch_valid_size: int = 32):\n",
    "        super().__init__()\n",
    "        self.save_hyperparameters()\n",
    "\n",
    "        self.batch_train_size = batch_train_size\n",
    "        self.batch_valid_size = batch_valid_size\n",
    "\n",
    "        self.train_dataset = Weather_dataset(dataset=2)\n",
    "        self.valid_dataset = Weather_dataset(dataset=3)\n",
    "        self.test_dataset = Weather_dataset(dataset=4)\n",
    "\n",
    "    def train_dataloader(self):\n",
    "        return torch.utils.data.DataLoader(self.train_dataset, batch_size=self.batch_train_size, shuffle=True, num_workers=1)\n",
    "\n",
    "    def val_dataloader(self):\n",
    "        return torch.utils.data.DataLoader(self.valid_dataset, batch_size=self.batch_valid_size, num_workers=1)\n",
    "    \n",
    "    def test_dataloader(self):\n",
    "        return torch.utils.data.DataLoader(self.test_dataset, batch_size=self.batch_valid_size, num_workers=1)"
   ]
  },
  {
   "cell_type": "code",
   "execution_count": 47,
   "metadata": {},
   "outputs": [
    {
     "data": {
      "text/plain": [
       "(1439, 2)"
      ]
     },
     "execution_count": 47,
     "metadata": {},
     "output_type": "execute_result"
    }
   ],
   "source": [
    "dataModule.train_dataset.target.shape"
   ]
  },
  {
   "cell_type": "code",
   "execution_count": 44,
   "metadata": {},
   "outputs": [
    {
     "name": "stderr",
     "output_type": "stream",
     "text": [
      "GPU available: True (mps), used: False\n",
      "TPU available: False, using: 0 TPU cores\n",
      "IPU available: False, using: 0 IPUs\n",
      "HPU available: False, using: 0 HPUs\n",
      "/Users/alberic/.pyenv/versions/3.10.9/lib/python3.10/site-packages/lightning/pytorch/trainer/setup.py:201: UserWarning:\n",
      "\n",
      "MPS available but not used. Set `accelerator` and `devices` using `Trainer(accelerator='mps', devices=1)`.\n",
      "\n",
      "\n",
      "  | Name          | Type       | Params\n",
      "---------------------------------------------\n",
      "0 | input_layer   | Linear     | 1.9 K \n",
      "1 | hidden_layers | ModuleList | 2.8 K \n",
      "2 | output_layer  | Linear     | 6     \n",
      "3 | activ         | ReLU       | 0     \n",
      "4 | loss          | MSELoss    | 0     \n",
      "---------------------------------------------\n",
      "4.7 K     Trainable params\n",
      "0         Non-trainable params\n",
      "4.7 K     Total params\n",
      "0.019     Total estimated model params size (MB)\n"
     ]
    },
    {
     "data": {
      "application/vnd.jupyter.widget-view+json": {
       "model_id": "94dbcce3c8bd4600a7012d56d10c6c3a",
       "version_major": 2,
       "version_minor": 0
      },
      "text/plain": [
       "Sanity Checking: 0it [00:00, ?it/s]"
      ]
     },
     "metadata": {},
     "output_type": "display_data"
    },
    {
     "name": "stderr",
     "output_type": "stream",
     "text": [
      "Traceback (most recent call last):\n",
      "  File \"<string>\", line 1, in <module>\n",
      "  File \"/Users/alberic/.pyenv/versions/3.10.9/lib/python3.10/multiprocessing/spawn.py\", line 116, in spawn_main\n",
      "    exitcode = _main(fd, parent_sentinel)\n",
      "  File \"/Users/alberic/.pyenv/versions/3.10.9/lib/python3.10/multiprocessing/spawn.py\", line 126, in _main\n",
      "    self = reduction.pickle.load(from_parent)\n",
      "AttributeError: Can't get attribute 'Weather_dataset' on <module '__main__' (built-in)>\n"
     ]
    }
   ],
   "source": [
    "dataModule = Weather_dataModule(batch_train_size=32, batch_valid_size=32)\n",
    "\n",
    "model = MLPModel(d_input=29, d_output=2, d_layers=[64, 32, 16, 8, 2], lr=1e-3, gamma=1.0)\n",
    "\n",
    "trainer = pl.Trainer(\n",
    "                    accelerator='cpu', devices=1,\n",
    "                    max_epochs=10, \n",
    "                    log_every_n_steps=1,\n",
    "                    accumulate_grad_batches=1,\n",
    "                    # logger=wandb_logger,\n",
    "                    # callbacks=[\n",
    "                    #             # EarlyStopping(monitor=\"valid/loss\", mode='min', patience=30),\n",
    "                    #             PredictionLogger(),\n",
    "                    #             ModelChecker(log_every_nstep=100000)]\n",
    "                                )\n",
    "\n",
    "trainer.fit(model=model, datamodule=dataModule)"
   ]
  },
  {
   "cell_type": "code",
   "execution_count": null,
   "metadata": {},
   "outputs": [],
   "source": []
  }
 ],
 "metadata": {
  "language_info": {
   "name": "python"
  },
  "orig_nbformat": 4
 },
 "nbformat": 4,
 "nbformat_minor": 2
}
